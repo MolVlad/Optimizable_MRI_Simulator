{
 "cells": [
  {
   "cell_type": "code",
   "execution_count": 1,
   "id": "60ba91f1-8003-4e45-a7e7-273b4e4e33fc",
   "metadata": {},
   "outputs": [],
   "source": [
    "# !./get_data.sh"
   ]
  },
  {
   "cell_type": "code",
   "execution_count": 1,
   "id": "457a3765-f617-40ab-b793-a39d4ee3b09b",
   "metadata": {},
   "outputs": [],
   "source": [
    "import torch\n",
    "from torch import nn\n",
    "from torch.nn import functional as F\n",
    "from torch.utils.data import DataLoader\n",
    "from torch.utils.tensorboard import SummaryWriter\n",
    "import numpy as np\n",
    "import matplotlib.pyplot as plt\n",
    "import time\n",
    "import wandb\n",
    "from collections import defaultdict\n",
    "from itertools import islice\n",
    "from IPython import display\n",
    "# import albumentations as A\n",
    "from torchsummary import summary\n",
    "from utils.dataset import MRI\n",
    "from utils.functions import train_network, SaveBestModel\n",
    "from utils.loss import dice_loss\n",
    "from models.unet import UNet"
   ]
  },
  {
   "cell_type": "code",
   "execution_count": 2,
   "id": "b84bfb3b-5f98-421a-8b47-3fdfce9bb64f",
   "metadata": {},
   "outputs": [],
   "source": [
    "device = 'cuda:1'"
   ]
  },
  {
   "cell_type": "markdown",
   "id": "633c1e42-a57e-4015-a2bb-70611d98baa3",
   "metadata": {},
   "source": [
    "# Sweep config"
   ]
  },
  {
   "cell_type": "code",
   "execution_count": 3,
   "id": "890cbd1f-267a-415e-9d88-103f7a50c643",
   "metadata": {},
   "outputs": [],
   "source": [
    "sweep_config = {\n",
    "    'method': 'bayes',\n",
    "    'metric': {\n",
    "        'name': 'Mean Dice',\n",
    "        'goal': 'maximize'   \n",
    "    }}"
   ]
  },
  {
   "cell_type": "code",
   "execution_count": 4,
   "id": "d68bfb4f-097c-4a03-a28f-1ac1765cc13b",
   "metadata": {},
   "outputs": [],
   "source": [
    "parameters_dict = {\n",
    "    'optimizer': {\n",
    "        'values': ['adam', 'sgd']\n",
    "    },\n",
    "    'learning_rate': {\n",
    "        'distribution': 'uniform',\n",
    "        'min': 0,\n",
    "        'max': 0.1\n",
    "    },\n",
    "    'weight_decay': {\n",
    "        'distribution': 'uniform',\n",
    "        'min': 0,\n",
    "        'max': 0.75\n",
    "    },\n",
    "    'batch_size': {\n",
    "        'distribution': 'q_log_uniform_values',\n",
    "        'q': 4,\n",
    "        'min': 4,\n",
    "        'max': 64,\n",
    "    },\n",
    "    'criterion': {\n",
    "        'values': ['ce', 'dice']\n",
    "    },\n",
    "    'num_epochs': {\n",
    "        'value': 200\n",
    "    },\n",
    "    'saver': {\n",
    "        'value': None\n",
    "    },\n",
    "    'num_workers': {\n",
    "        'value': 8\n",
    "    },\n",
    "    'num_classes': {\n",
    "        'value': 8\n",
    "    },\n",
    "    'min_channels': {\n",
    "        'value': 32\n",
    "    },\n",
    "    'max_channels': {\n",
    "        'value': 512\n",
    "    },\n",
    "    'num_down_blocks': {\n",
    "        'values': [3, 4, 5]\n",
    "    },\n",
    "    'img_channels': {\n",
    "        'value': 8\n",
    "    },\n",
    "    'dropout': {\n",
    "          'values': [0.3, 0.4, 0.5, 0.6]\n",
    "    },\n",
    "    'upsampling_mode': {\n",
    "        'values': ['upsampling', 'conv_transpose']\n",
    "    },\n",
    "    'norm_mode': {\n",
    "        'values': ['instance', 'batch']\n",
    "    },\n",
    "    }\n",
    "\n",
    "sweep_config['parameters'] = parameters_dict"
   ]
  },
  {
   "cell_type": "code",
   "execution_count": 5,
   "id": "a3663cf4-bc9b-4adf-93cf-09111b0a7958",
   "metadata": {},
   "outputs": [
    {
     "name": "stdout",
     "output_type": "stream",
     "text": [
      "Create sweep with ID: gx43qrty\n",
      "Sweep URL: https://wandb.ai/bsim-skt/test-sweeps/sweeps/gx43qrty\n"
     ]
    }
   ],
   "source": [
    "sweep_id = wandb.sweep(sweep_config, project=\"test-sweeps\", entity=\"bsim-skt\")"
   ]
  },
  {
   "cell_type": "markdown",
   "id": "7055e624",
   "metadata": {},
   "source": [
    "# Image from 8 slices is used"
   ]
  },
  {
   "cell_type": "code",
   "execution_count": 6,
   "id": "d9c4fb93-cda9-48e9-8855-ec78bf9b7217",
   "metadata": {},
   "outputs": [],
   "source": [
    "saver = None\n",
    "\n",
    "train_dataset = MRI('train', mode = 'slices')\n",
    "validation_dataset = MRI('test', mode = 'slices')\n",
    "\n",
    "def run_sweep(config=None):\n",
    "    with wandb.init(config=config):\n",
    "        config = wandb.config\n",
    "\n",
    "        train_dataloader = DataLoader(train_dataset, batch_size=config.batch_size, shuffle=True, num_workers=config.num_workers) \n",
    "        validation_dataloader = DataLoader(validation_dataset, batch_size=config.batch_size, shuffle=False, num_workers=config.num_workers)\n",
    "\n",
    "        model = UNet(\n",
    "            num_classes=config.num_classes, min_channels=config.min_channels,\n",
    "            max_channels=config.max_channels, num_down_blocks=config.num_down_blocks, \n",
    "            img_channels=config.img_channels, upsampling_mode=config.upsampling_mode, \n",
    "            norm_mode=config.norm_mode).to(device)\n",
    "\n",
    "        if config.optimizer == 'adam':\n",
    "            opt = torch.optim.Adam(model.parameters(), lr=config.learning_rate, weight_decay=config.weight_decay)\n",
    "        elif config.optimizer == 'sgd':\n",
    "            opt = torch.optim.SGD(model.parameters(), lr=config.learning_rate, weight_decay=config.weight_decay)\n",
    "        \n",
    "        if config.criterion == 'ce':\n",
    "            criterion = nn.CrossEntropyLoss()\n",
    "        elif config.criterion == 'dice':\n",
    "            criterion = dice_loss\n",
    "        \n",
    "\n",
    "        train_network(network=model, opt=opt, criterion=criterion, num_epochs=config.num_epochs, \n",
    "                      train_loader=train_dataloader, val_loader=validation_dataloader, device=device, \n",
    "                      saver=config.saver, use_wandb=True)"
   ]
  },
  {
   "cell_type": "code",
   "execution_count": null,
   "id": "a68d0883-89ea-48db-af33-c79b4dde1010",
   "metadata": {},
   "outputs": [
    {
     "name": "stderr",
     "output_type": "stream",
     "text": [
      "\u001b[34m\u001b[1mwandb\u001b[0m: Agent Starting Run: c0jbtypq with config:\n",
      "\u001b[34m\u001b[1mwandb\u001b[0m: \tbatch_size: 4\n",
      "\u001b[34m\u001b[1mwandb\u001b[0m: \tcriterion: dice\n",
      "\u001b[34m\u001b[1mwandb\u001b[0m: \tdropout: 0.4\n",
      "\u001b[34m\u001b[1mwandb\u001b[0m: \timg_channels: 8\n",
      "\u001b[34m\u001b[1mwandb\u001b[0m: \tlearning_rate: 0.0006781078949649116\n",
      "\u001b[34m\u001b[1mwandb\u001b[0m: \tmax_channels: 512\n",
      "\u001b[34m\u001b[1mwandb\u001b[0m: \tmin_channels: 32\n",
      "\u001b[34m\u001b[1mwandb\u001b[0m: \tnorm_mode: instance\n",
      "\u001b[34m\u001b[1mwandb\u001b[0m: \tnum_classes: 8\n",
      "\u001b[34m\u001b[1mwandb\u001b[0m: \tnum_down_blocks: 5\n",
      "\u001b[34m\u001b[1mwandb\u001b[0m: \tnum_epochs: 200\n",
      "\u001b[34m\u001b[1mwandb\u001b[0m: \tnum_workers: 8\n",
      "\u001b[34m\u001b[1mwandb\u001b[0m: \toptimizer: adam\n",
      "\u001b[34m\u001b[1mwandb\u001b[0m: \tsaver: None\n",
      "\u001b[34m\u001b[1mwandb\u001b[0m: \tupsampling_mode: upsampling\n",
      "\u001b[34m\u001b[1mwandb\u001b[0m: \tweight_decay: 0.3810053559630216\n"
     ]
    },
    {
     "data": {
      "text/html": [
       "Tracking run with wandb version 0.12.16"
      ],
      "text/plain": [
       "<IPython.core.display.HTML object>"
      ]
     },
     "metadata": {},
     "output_type": "display_data"
    },
    {
     "data": {
      "text/html": [
       "Run data is saved locally in <code>/home/jovyan/notebooks/bsim/wandb/run-20220522_113841-c0jbtypq</code>"
      ],
      "text/plain": [
       "<IPython.core.display.HTML object>"
      ]
     },
     "metadata": {},
     "output_type": "display_data"
    },
    {
     "data": {
      "text/html": [
       "Syncing run <strong><a href=\"https://wandb.ai/bsim-skt/test-sweeps/runs/c0jbtypq\" target=\"_blank\">fine-sweep-73</a></strong> to <a href=\"https://wandb.ai/bsim-skt/test-sweeps\" target=\"_blank\">Weights & Biases</a> (<a href=\"https://wandb.me/run\" target=\"_blank\">docs</a>)<br/>Sweep page:  <a href=\"https://wandb.ai/bsim-skt/test-sweeps/sweeps/30sppqsh\" target=\"_blank\">https://wandb.ai/bsim-skt/test-sweeps/sweeps/30sppqsh</a>"
      ],
      "text/plain": [
       "<IPython.core.display.HTML object>"
      ]
     },
     "metadata": {},
     "output_type": "display_data"
    },
    {
     "name": "stderr",
     "output_type": "stream",
     "text": [
      "Dice:0.282: 100%|█████████████████████████████| 200/200 [21:39<00:00,  6.50s/it]\n"
     ]
    },
    {
     "data": {
      "text/html": [
       "Waiting for W&B process to finish... <strong style=\"color:green\">(success).</strong>"
      ],
      "text/plain": [
       "<IPython.core.display.HTML object>"
      ]
     },
     "metadata": {},
     "output_type": "display_data"
    },
    {
     "data": {
      "application/vnd.jupyter.widget-view+json": {
       "model_id": "",
       "version_major": 2,
       "version_minor": 0
      },
      "text/plain": [
       "VBox(children=(Label(value='0.440 MB of 0.440 MB uploaded (0.000 MB deduped)\\r'), FloatProgress(value=1.0, max…"
      ]
     },
     "metadata": {},
     "output_type": "display_data"
    },
    {
     "data": {
      "text/html": [
       "<style>\n",
       "    table.wandb td:nth-child(1) { padding: 0 10px; text-align: left ; width: auto;} td:nth-child(2) {text-align: left ; width: 100%}\n",
       "    .wandb-row { display: flex; flex-direction: row; flex-wrap: wrap; justify-content: flex-start; width: 100% }\n",
       "    .wandb-col { display: flex; flex-direction: column; flex-basis: 100%; flex: 1; padding: 10px; }\n",
       "    </style>\n",
       "<div class=\"wandb-row\"><div class=\"wandb-col\"><h3>Run history:</h3><br/><table class=\"wandb\"><tr><td>Mean Dice</td><td>█▄▅▁▁▂▅▅▅▅▅▅▆▃▃▂█▅▃▄▅▃▅▄▅▅▄▅▄▃▅▂▆▃▅▄▂▅▁▅</td></tr><tr><td>Mean IOU</td><td>█▄▆▂▁▃▅▅▆▆▅▆▇▄▄▃█▆▃▅▆▄▅▅▅▆▅▆▅▃▅▂▆▃▆▅▃▅▂▆</td></tr><tr><td>Mean accuracy</td><td>▅▆▆▃▁▂▆▆▆▅▆▆▇▄▄▄█▆▄▆▇▅▆▆▆▆▅▇▆▄▆▃▇▄▆▅▃▆▂▆</td></tr><tr><td>Mean class recall</td><td>█▅▆▂▁▄▆▅▆▅▆▆▇▄▄▃█▆▄▅▆▄▆▅▆▆▅▆▄▄▅▂▇▄▆▅▃▅▂▅</td></tr><tr><td>Train loss</td><td>▂▃▅▅▃▇▄▂▅▅▆▃▆▇▄▁▃▄▆▆▆▅▂▂▆▅▆▆▄▅▅▃▅▆▆▃█▄▄▆</td></tr><tr><td>Val loss</td><td>▁▅▆▇▇█▆▆▆▅▆▅▃▆▂▃▂▁▂▃▃▃▃▁▂▁▄▁▅▆▆▆▄▅▄▃▃▄▄▁</td></tr></table><br/></div><div class=\"wandb-col\"><h3>Run summary:</h3><br/><table class=\"wandb\"><tr><td>Mean Dice</td><td>0.2824</td></tr><tr><td>Mean IOU</td><td>0.25466</td></tr><tr><td>Mean accuracy</td><td>0.56891</td></tr><tr><td>Mean class recall</td><td>0.33119</td></tr><tr><td>Train loss</td><td>0.90202</td></tr><tr><td>Val loss</td><td>0.90152</td></tr></table><br/></div></div>"
      ],
      "text/plain": [
       "<IPython.core.display.HTML object>"
      ]
     },
     "metadata": {},
     "output_type": "display_data"
    },
    {
     "data": {
      "text/html": [
       "Synced <strong style=\"color:#cdcd00\">fine-sweep-73</strong>: <a href=\"https://wandb.ai/bsim-skt/test-sweeps/runs/c0jbtypq\" target=\"_blank\">https://wandb.ai/bsim-skt/test-sweeps/runs/c0jbtypq</a><br/>Synced 5 W&B file(s), 240 media file(s), 0 artifact file(s) and 0 other file(s)"
      ],
      "text/plain": [
       "<IPython.core.display.HTML object>"
      ]
     },
     "metadata": {},
     "output_type": "display_data"
    },
    {
     "data": {
      "text/html": [
       "Find logs at: <code>./wandb/run-20220522_113841-c0jbtypq/logs</code>"
      ],
      "text/plain": [
       "<IPython.core.display.HTML object>"
      ]
     },
     "metadata": {},
     "output_type": "display_data"
    },
    {
     "name": "stderr",
     "output_type": "stream",
     "text": [
      "\u001b[34m\u001b[1mwandb\u001b[0m: Sweep Agent: Waiting for job.\n",
      "\u001b[34m\u001b[1mwandb\u001b[0m: Job received.\n",
      "\u001b[34m\u001b[1mwandb\u001b[0m: Agent Starting Run: 211zxk9i with config:\n",
      "\u001b[34m\u001b[1mwandb\u001b[0m: \tbatch_size: 4\n",
      "\u001b[34m\u001b[1mwandb\u001b[0m: \tcriterion: dice\n",
      "\u001b[34m\u001b[1mwandb\u001b[0m: \tdropout: 0.6\n",
      "\u001b[34m\u001b[1mwandb\u001b[0m: \timg_channels: 8\n",
      "\u001b[34m\u001b[1mwandb\u001b[0m: \tlearning_rate: 0.0006064438876040385\n",
      "\u001b[34m\u001b[1mwandb\u001b[0m: \tmax_channels: 512\n",
      "\u001b[34m\u001b[1mwandb\u001b[0m: \tmin_channels: 32\n",
      "\u001b[34m\u001b[1mwandb\u001b[0m: \tnorm_mode: instance\n",
      "\u001b[34m\u001b[1mwandb\u001b[0m: \tnum_classes: 8\n",
      "\u001b[34m\u001b[1mwandb\u001b[0m: \tnum_down_blocks: 5\n",
      "\u001b[34m\u001b[1mwandb\u001b[0m: \tnum_epochs: 200\n",
      "\u001b[34m\u001b[1mwandb\u001b[0m: \tnum_workers: 8\n",
      "\u001b[34m\u001b[1mwandb\u001b[0m: \toptimizer: sgd\n",
      "\u001b[34m\u001b[1mwandb\u001b[0m: \tsaver: None\n",
      "\u001b[34m\u001b[1mwandb\u001b[0m: \tupsampling_mode: conv_transpose\n",
      "\u001b[34m\u001b[1mwandb\u001b[0m: \tweight_decay: 0.09457546202889688\n"
     ]
    },
    {
     "data": {
      "text/html": [
       "Tracking run with wandb version 0.12.16"
      ],
      "text/plain": [
       "<IPython.core.display.HTML object>"
      ]
     },
     "metadata": {},
     "output_type": "display_data"
    },
    {
     "data": {
      "text/html": [
       "Run data is saved locally in <code>/home/jovyan/notebooks/bsim/wandb/run-20220522_120039-211zxk9i</code>"
      ],
      "text/plain": [
       "<IPython.core.display.HTML object>"
      ]
     },
     "metadata": {},
     "output_type": "display_data"
    },
    {
     "data": {
      "text/html": [
       "Syncing run <strong><a href=\"https://wandb.ai/bsim-skt/test-sweeps/runs/211zxk9i\" target=\"_blank\">dry-sweep-74</a></strong> to <a href=\"https://wandb.ai/bsim-skt/test-sweeps\" target=\"_blank\">Weights & Biases</a> (<a href=\"https://wandb.me/run\" target=\"_blank\">docs</a>)<br/>Sweep page:  <a href=\"https://wandb.ai/bsim-skt/test-sweeps/sweeps/30sppqsh\" target=\"_blank\">https://wandb.ai/bsim-skt/test-sweeps/sweeps/30sppqsh</a>"
      ],
      "text/plain": [
       "<IPython.core.display.HTML object>"
      ]
     },
     "metadata": {},
     "output_type": "display_data"
    },
    {
     "name": "stderr",
     "output_type": "stream",
     "text": [
      "Dice:0.248:  93%|██████████████████████████▉  | 186/200 [19:11<01:26,  6.19s/it]"
     ]
    }
   ],
   "source": [
    "wandb.agent('bsim-skt/test-sweeps/30sppqsh', run_sweep, count=10)"
   ]
  },
  {
   "cell_type": "code",
   "execution_count": 13,
   "id": "33e1315b-173c-4ffb-848e-a38b447fc423",
   "metadata": {},
   "outputs": [],
   "source": [
    "criterion = nn.CrossEntropyLoss()\n",
    "train_dataset = MRI('train', mode = 'slices')\n",
    "validation_dataset = MRI('test', mode = 'slices')\n",
    "train_dataloader = DataLoader(train_dataset, batch_size=8, shuffle=True, num_workers=8) \n",
    "validation_dataloader = DataLoader(validation_dataset, batch_size=8, shuffle=False, num_workers=8)\n",
    "\n",
    "model = UNet(num_classes=8, in_channels=8, min_channels=32, num_down_blocks=4, normalization_mode='instance').to(device)\n",
    "opt = torch.optim.Adam(model.parameters(), lr=5e-5, weight_decay=1e-4)"
   ]
  },
  {
   "cell_type": "code",
   "execution_count": 13,
   "id": "1a1da755-cbc2-4474-8926-9019cecee54c",
   "metadata": {},
   "outputs": [
    {
     "data": {
      "application/vnd.jupyter.widget-view+json": {
       "model_id": "fae9085eb6b1499db0967832eab43e74",
       "version_major": 2,
       "version_minor": 0
      },
      "text/plain": [
       "  0%|          | 0/300 [00:00<?, ?it/s]"
      ]
     },
     "metadata": {},
     "output_type": "display_data"
    },
    {
     "ename": "RuntimeError",
     "evalue": "Given groups=1, weight of size [32, 2, 3, 3], expected input[8, 8, 64, 64] to have 2 channels, but got 8 channels instead",
     "output_type": "error",
     "traceback": [
      "\u001b[0;31m---------------------------------------------------------------------------\u001b[0m",
      "\u001b[0;31mRuntimeError\u001b[0m                              Traceback (most recent call last)",
      "Input \u001b[0;32mIn [13]\u001b[0m, in \u001b[0;36m<cell line: 7>\u001b[0;34m()\u001b[0m\n\u001b[1;32m      4\u001b[0m saver \u001b[38;5;241m=\u001b[39m SaveBestModel(\u001b[38;5;124mf\u001b[39m\u001b[38;5;124m'\u001b[39m\u001b[38;5;124mresults/pths/\u001b[39m\u001b[38;5;132;01m{\u001b[39;00mtime_string\u001b[38;5;132;01m}\u001b[39;00m\u001b[38;5;124m_\u001b[39m\u001b[38;5;132;01m{\u001b[39;00mexperiment_name\u001b[38;5;132;01m}\u001b[39;00m\u001b[38;5;124m'\u001b[39m)\n\u001b[1;32m      5\u001b[0m \u001b[38;5;66;03m# writer = None\u001b[39;00m\n\u001b[1;32m      6\u001b[0m \u001b[38;5;66;03m# saver = None\u001b[39;00m\n\u001b[0;32m----> 7\u001b[0m \u001b[43mtrain_network\u001b[49m\u001b[43m(\u001b[49m\u001b[43mmodel\u001b[49m\u001b[43m,\u001b[49m\u001b[43m \u001b[49m\u001b[43mopt\u001b[49m\u001b[43m,\u001b[49m\u001b[43m \u001b[49m\u001b[43mcriterion\u001b[49m\u001b[43m,\u001b[49m\u001b[43m \u001b[49m\u001b[38;5;241;43m300\u001b[39;49m\u001b[43m,\u001b[49m\u001b[43m \u001b[49m\u001b[43mwriter\u001b[49m\u001b[43m,\u001b[49m\u001b[43m \u001b[49m\u001b[43msaver\u001b[49m\u001b[43m)\u001b[49m\n",
      "Input \u001b[0;32mIn [7]\u001b[0m, in \u001b[0;36mtrain_network\u001b[0;34m(network, opt, criterion, num_epochs, writer, saver)\u001b[0m\n\u001b[1;32m     12\u001b[0m slices \u001b[38;5;241m=\u001b[39m slices\u001b[38;5;241m.\u001b[39mto(device)\n\u001b[1;32m     13\u001b[0m masks \u001b[38;5;241m=\u001b[39m masks\u001b[38;5;241m.\u001b[39mto(device)\n\u001b[0;32m---> 15\u001b[0m prediction \u001b[38;5;241m=\u001b[39m \u001b[43mnetwork\u001b[49m\u001b[43m(\u001b[49m\u001b[43mslices\u001b[49m\u001b[43m)\u001b[49m\n\u001b[1;32m     17\u001b[0m train_loss \u001b[38;5;241m=\u001b[39m criterion(prediction, masks)\n\u001b[1;32m     18\u001b[0m train_loss\u001b[38;5;241m.\u001b[39mbackward()\n",
      "File \u001b[0;32m/opt/conda/lib/python3.9/site-packages/torch/nn/modules/module.py:1110\u001b[0m, in \u001b[0;36mModule._call_impl\u001b[0;34m(self, *input, **kwargs)\u001b[0m\n\u001b[1;32m   1106\u001b[0m \u001b[38;5;66;03m# If we don't have any hooks, we want to skip the rest of the logic in\u001b[39;00m\n\u001b[1;32m   1107\u001b[0m \u001b[38;5;66;03m# this function, and just call forward.\u001b[39;00m\n\u001b[1;32m   1108\u001b[0m \u001b[38;5;28;01mif\u001b[39;00m \u001b[38;5;129;01mnot\u001b[39;00m (\u001b[38;5;28mself\u001b[39m\u001b[38;5;241m.\u001b[39m_backward_hooks \u001b[38;5;129;01mor\u001b[39;00m \u001b[38;5;28mself\u001b[39m\u001b[38;5;241m.\u001b[39m_forward_hooks \u001b[38;5;129;01mor\u001b[39;00m \u001b[38;5;28mself\u001b[39m\u001b[38;5;241m.\u001b[39m_forward_pre_hooks \u001b[38;5;129;01mor\u001b[39;00m _global_backward_hooks\n\u001b[1;32m   1109\u001b[0m         \u001b[38;5;129;01mor\u001b[39;00m _global_forward_hooks \u001b[38;5;129;01mor\u001b[39;00m _global_forward_pre_hooks):\n\u001b[0;32m-> 1110\u001b[0m     \u001b[38;5;28;01mreturn\u001b[39;00m \u001b[43mforward_call\u001b[49m\u001b[43m(\u001b[49m\u001b[38;5;241;43m*\u001b[39;49m\u001b[38;5;28;43minput\u001b[39;49m\u001b[43m,\u001b[49m\u001b[43m \u001b[49m\u001b[38;5;241;43m*\u001b[39;49m\u001b[38;5;241;43m*\u001b[39;49m\u001b[43mkwargs\u001b[49m\u001b[43m)\u001b[49m\n\u001b[1;32m   1111\u001b[0m \u001b[38;5;66;03m# Do not call functions when jit is used\u001b[39;00m\n\u001b[1;32m   1112\u001b[0m full_backward_hooks, non_full_backward_hooks \u001b[38;5;241m=\u001b[39m [], []\n",
      "Input \u001b[0;32mIn [3]\u001b[0m, in \u001b[0;36mUNet.forward\u001b[0;34m(self, inputs)\u001b[0m\n\u001b[1;32m     47\u001b[0m x \u001b[38;5;241m=\u001b[39m new_inputs\n\u001b[1;32m     48\u001b[0m \u001b[38;5;28;01mfor\u001b[39;00m block \u001b[38;5;129;01min\u001b[39;00m \u001b[38;5;28mself\u001b[39m\u001b[38;5;241m.\u001b[39mencoder:\n\u001b[0;32m---> 49\u001b[0m     res \u001b[38;5;241m=\u001b[39m \u001b[43mblock\u001b[49m\u001b[43m(\u001b[49m\u001b[43mx\u001b[49m\u001b[43m)\u001b[49m\n\u001b[1;32m     50\u001b[0m     \u001b[38;5;28;01mif\u001b[39;00m \u001b[38;5;28misinstance\u001b[39m(res, \u001b[38;5;28mtuple\u001b[39m):\n\u001b[1;32m     51\u001b[0m         skip_con\u001b[38;5;241m.\u001b[39mappend(res[\u001b[38;5;241m1\u001b[39m]) \n",
      "File \u001b[0;32m/opt/conda/lib/python3.9/site-packages/torch/nn/modules/module.py:1110\u001b[0m, in \u001b[0;36mModule._call_impl\u001b[0;34m(self, *input, **kwargs)\u001b[0m\n\u001b[1;32m   1106\u001b[0m \u001b[38;5;66;03m# If we don't have any hooks, we want to skip the rest of the logic in\u001b[39;00m\n\u001b[1;32m   1107\u001b[0m \u001b[38;5;66;03m# this function, and just call forward.\u001b[39;00m\n\u001b[1;32m   1108\u001b[0m \u001b[38;5;28;01mif\u001b[39;00m \u001b[38;5;129;01mnot\u001b[39;00m (\u001b[38;5;28mself\u001b[39m\u001b[38;5;241m.\u001b[39m_backward_hooks \u001b[38;5;129;01mor\u001b[39;00m \u001b[38;5;28mself\u001b[39m\u001b[38;5;241m.\u001b[39m_forward_hooks \u001b[38;5;129;01mor\u001b[39;00m \u001b[38;5;28mself\u001b[39m\u001b[38;5;241m.\u001b[39m_forward_pre_hooks \u001b[38;5;129;01mor\u001b[39;00m _global_backward_hooks\n\u001b[1;32m   1109\u001b[0m         \u001b[38;5;129;01mor\u001b[39;00m _global_forward_hooks \u001b[38;5;129;01mor\u001b[39;00m _global_forward_pre_hooks):\n\u001b[0;32m-> 1110\u001b[0m     \u001b[38;5;28;01mreturn\u001b[39;00m \u001b[43mforward_call\u001b[49m\u001b[43m(\u001b[49m\u001b[38;5;241;43m*\u001b[39;49m\u001b[38;5;28;43minput\u001b[39;49m\u001b[43m,\u001b[49m\u001b[43m \u001b[49m\u001b[38;5;241;43m*\u001b[39;49m\u001b[38;5;241;43m*\u001b[39;49m\u001b[43mkwargs\u001b[49m\u001b[43m)\u001b[49m\n\u001b[1;32m   1111\u001b[0m \u001b[38;5;66;03m# Do not call functions when jit is used\u001b[39;00m\n\u001b[1;32m   1112\u001b[0m full_backward_hooks, non_full_backward_hooks \u001b[38;5;241m=\u001b[39m [], []\n",
      "Input \u001b[0;32mIn [2]\u001b[0m, in \u001b[0;36mEncoderBlock.forward\u001b[0;34m(self, inputs)\u001b[0m\n\u001b[1;32m     20\u001b[0m \u001b[38;5;28;01mdef\u001b[39;00m \u001b[38;5;21mforward\u001b[39m(\u001b[38;5;28mself\u001b[39m, inputs):\n\u001b[0;32m---> 21\u001b[0m     out \u001b[38;5;241m=\u001b[39m \u001b[38;5;28;43mself\u001b[39;49m\u001b[38;5;241;43m.\u001b[39;49m\u001b[43mblock\u001b[49m\u001b[43m(\u001b[49m\u001b[43minputs\u001b[49m\u001b[43m)\u001b[49m\n\u001b[1;32m     22\u001b[0m     \u001b[38;5;28;01mif\u001b[39;00m \u001b[38;5;28mself\u001b[39m\u001b[38;5;241m.\u001b[39mmaxpooling:\n\u001b[1;32m     23\u001b[0m         \u001b[38;5;28;01mreturn\u001b[39;00m \u001b[38;5;28mself\u001b[39m\u001b[38;5;241m.\u001b[39mmax_pool(out), out\n",
      "File \u001b[0;32m/opt/conda/lib/python3.9/site-packages/torch/nn/modules/module.py:1110\u001b[0m, in \u001b[0;36mModule._call_impl\u001b[0;34m(self, *input, **kwargs)\u001b[0m\n\u001b[1;32m   1106\u001b[0m \u001b[38;5;66;03m# If we don't have any hooks, we want to skip the rest of the logic in\u001b[39;00m\n\u001b[1;32m   1107\u001b[0m \u001b[38;5;66;03m# this function, and just call forward.\u001b[39;00m\n\u001b[1;32m   1108\u001b[0m \u001b[38;5;28;01mif\u001b[39;00m \u001b[38;5;129;01mnot\u001b[39;00m (\u001b[38;5;28mself\u001b[39m\u001b[38;5;241m.\u001b[39m_backward_hooks \u001b[38;5;129;01mor\u001b[39;00m \u001b[38;5;28mself\u001b[39m\u001b[38;5;241m.\u001b[39m_forward_hooks \u001b[38;5;129;01mor\u001b[39;00m \u001b[38;5;28mself\u001b[39m\u001b[38;5;241m.\u001b[39m_forward_pre_hooks \u001b[38;5;129;01mor\u001b[39;00m _global_backward_hooks\n\u001b[1;32m   1109\u001b[0m         \u001b[38;5;129;01mor\u001b[39;00m _global_forward_hooks \u001b[38;5;129;01mor\u001b[39;00m _global_forward_pre_hooks):\n\u001b[0;32m-> 1110\u001b[0m     \u001b[38;5;28;01mreturn\u001b[39;00m \u001b[43mforward_call\u001b[49m\u001b[43m(\u001b[49m\u001b[38;5;241;43m*\u001b[39;49m\u001b[38;5;28;43minput\u001b[39;49m\u001b[43m,\u001b[49m\u001b[43m \u001b[49m\u001b[38;5;241;43m*\u001b[39;49m\u001b[38;5;241;43m*\u001b[39;49m\u001b[43mkwargs\u001b[49m\u001b[43m)\u001b[49m\n\u001b[1;32m   1111\u001b[0m \u001b[38;5;66;03m# Do not call functions when jit is used\u001b[39;00m\n\u001b[1;32m   1112\u001b[0m full_backward_hooks, non_full_backward_hooks \u001b[38;5;241m=\u001b[39m [], []\n",
      "File \u001b[0;32m/opt/conda/lib/python3.9/site-packages/torch/nn/modules/container.py:141\u001b[0m, in \u001b[0;36mSequential.forward\u001b[0;34m(self, input)\u001b[0m\n\u001b[1;32m    139\u001b[0m \u001b[38;5;28;01mdef\u001b[39;00m \u001b[38;5;21mforward\u001b[39m(\u001b[38;5;28mself\u001b[39m, \u001b[38;5;28minput\u001b[39m):\n\u001b[1;32m    140\u001b[0m     \u001b[38;5;28;01mfor\u001b[39;00m module \u001b[38;5;129;01min\u001b[39;00m \u001b[38;5;28mself\u001b[39m:\n\u001b[0;32m--> 141\u001b[0m         \u001b[38;5;28minput\u001b[39m \u001b[38;5;241m=\u001b[39m \u001b[43mmodule\u001b[49m\u001b[43m(\u001b[49m\u001b[38;5;28;43minput\u001b[39;49m\u001b[43m)\u001b[49m\n\u001b[1;32m    142\u001b[0m     \u001b[38;5;28;01mreturn\u001b[39;00m \u001b[38;5;28minput\u001b[39m\n",
      "File \u001b[0;32m/opt/conda/lib/python3.9/site-packages/torch/nn/modules/module.py:1110\u001b[0m, in \u001b[0;36mModule._call_impl\u001b[0;34m(self, *input, **kwargs)\u001b[0m\n\u001b[1;32m   1106\u001b[0m \u001b[38;5;66;03m# If we don't have any hooks, we want to skip the rest of the logic in\u001b[39;00m\n\u001b[1;32m   1107\u001b[0m \u001b[38;5;66;03m# this function, and just call forward.\u001b[39;00m\n\u001b[1;32m   1108\u001b[0m \u001b[38;5;28;01mif\u001b[39;00m \u001b[38;5;129;01mnot\u001b[39;00m (\u001b[38;5;28mself\u001b[39m\u001b[38;5;241m.\u001b[39m_backward_hooks \u001b[38;5;129;01mor\u001b[39;00m \u001b[38;5;28mself\u001b[39m\u001b[38;5;241m.\u001b[39m_forward_hooks \u001b[38;5;129;01mor\u001b[39;00m \u001b[38;5;28mself\u001b[39m\u001b[38;5;241m.\u001b[39m_forward_pre_hooks \u001b[38;5;129;01mor\u001b[39;00m _global_backward_hooks\n\u001b[1;32m   1109\u001b[0m         \u001b[38;5;129;01mor\u001b[39;00m _global_forward_hooks \u001b[38;5;129;01mor\u001b[39;00m _global_forward_pre_hooks):\n\u001b[0;32m-> 1110\u001b[0m     \u001b[38;5;28;01mreturn\u001b[39;00m \u001b[43mforward_call\u001b[49m\u001b[43m(\u001b[49m\u001b[38;5;241;43m*\u001b[39;49m\u001b[38;5;28;43minput\u001b[39;49m\u001b[43m,\u001b[49m\u001b[43m \u001b[49m\u001b[38;5;241;43m*\u001b[39;49m\u001b[38;5;241;43m*\u001b[39;49m\u001b[43mkwargs\u001b[49m\u001b[43m)\u001b[49m\n\u001b[1;32m   1111\u001b[0m \u001b[38;5;66;03m# Do not call functions when jit is used\u001b[39;00m\n\u001b[1;32m   1112\u001b[0m full_backward_hooks, non_full_backward_hooks \u001b[38;5;241m=\u001b[39m [], []\n",
      "File \u001b[0;32m/opt/conda/lib/python3.9/site-packages/torch/nn/modules/conv.py:447\u001b[0m, in \u001b[0;36mConv2d.forward\u001b[0;34m(self, input)\u001b[0m\n\u001b[1;32m    446\u001b[0m \u001b[38;5;28;01mdef\u001b[39;00m \u001b[38;5;21mforward\u001b[39m(\u001b[38;5;28mself\u001b[39m, \u001b[38;5;28minput\u001b[39m: Tensor) \u001b[38;5;241m-\u001b[39m\u001b[38;5;241m>\u001b[39m Tensor:\n\u001b[0;32m--> 447\u001b[0m     \u001b[38;5;28;01mreturn\u001b[39;00m \u001b[38;5;28;43mself\u001b[39;49m\u001b[38;5;241;43m.\u001b[39;49m\u001b[43m_conv_forward\u001b[49m\u001b[43m(\u001b[49m\u001b[38;5;28;43minput\u001b[39;49m\u001b[43m,\u001b[49m\u001b[43m \u001b[49m\u001b[38;5;28;43mself\u001b[39;49m\u001b[38;5;241;43m.\u001b[39;49m\u001b[43mweight\u001b[49m\u001b[43m,\u001b[49m\u001b[43m \u001b[49m\u001b[38;5;28;43mself\u001b[39;49m\u001b[38;5;241;43m.\u001b[39;49m\u001b[43mbias\u001b[49m\u001b[43m)\u001b[49m\n",
      "File \u001b[0;32m/opt/conda/lib/python3.9/site-packages/torch/nn/modules/conv.py:443\u001b[0m, in \u001b[0;36mConv2d._conv_forward\u001b[0;34m(self, input, weight, bias)\u001b[0m\n\u001b[1;32m    439\u001b[0m \u001b[38;5;28;01mif\u001b[39;00m \u001b[38;5;28mself\u001b[39m\u001b[38;5;241m.\u001b[39mpadding_mode \u001b[38;5;241m!=\u001b[39m \u001b[38;5;124m'\u001b[39m\u001b[38;5;124mzeros\u001b[39m\u001b[38;5;124m'\u001b[39m:\n\u001b[1;32m    440\u001b[0m     \u001b[38;5;28;01mreturn\u001b[39;00m F\u001b[38;5;241m.\u001b[39mconv2d(F\u001b[38;5;241m.\u001b[39mpad(\u001b[38;5;28minput\u001b[39m, \u001b[38;5;28mself\u001b[39m\u001b[38;5;241m.\u001b[39m_reversed_padding_repeated_twice, mode\u001b[38;5;241m=\u001b[39m\u001b[38;5;28mself\u001b[39m\u001b[38;5;241m.\u001b[39mpadding_mode),\n\u001b[1;32m    441\u001b[0m                     weight, bias, \u001b[38;5;28mself\u001b[39m\u001b[38;5;241m.\u001b[39mstride,\n\u001b[1;32m    442\u001b[0m                     _pair(\u001b[38;5;241m0\u001b[39m), \u001b[38;5;28mself\u001b[39m\u001b[38;5;241m.\u001b[39mdilation, \u001b[38;5;28mself\u001b[39m\u001b[38;5;241m.\u001b[39mgroups)\n\u001b[0;32m--> 443\u001b[0m \u001b[38;5;28;01mreturn\u001b[39;00m \u001b[43mF\u001b[49m\u001b[38;5;241;43m.\u001b[39;49m\u001b[43mconv2d\u001b[49m\u001b[43m(\u001b[49m\u001b[38;5;28;43minput\u001b[39;49m\u001b[43m,\u001b[49m\u001b[43m \u001b[49m\u001b[43mweight\u001b[49m\u001b[43m,\u001b[49m\u001b[43m \u001b[49m\u001b[43mbias\u001b[49m\u001b[43m,\u001b[49m\u001b[43m \u001b[49m\u001b[38;5;28;43mself\u001b[39;49m\u001b[38;5;241;43m.\u001b[39;49m\u001b[43mstride\u001b[49m\u001b[43m,\u001b[49m\n\u001b[1;32m    444\u001b[0m \u001b[43m                \u001b[49m\u001b[38;5;28;43mself\u001b[39;49m\u001b[38;5;241;43m.\u001b[39;49m\u001b[43mpadding\u001b[49m\u001b[43m,\u001b[49m\u001b[43m \u001b[49m\u001b[38;5;28;43mself\u001b[39;49m\u001b[38;5;241;43m.\u001b[39;49m\u001b[43mdilation\u001b[49m\u001b[43m,\u001b[49m\u001b[43m \u001b[49m\u001b[38;5;28;43mself\u001b[39;49m\u001b[38;5;241;43m.\u001b[39;49m\u001b[43mgroups\u001b[49m\u001b[43m)\u001b[49m\n",
      "\u001b[0;31mRuntimeError\u001b[0m: Given groups=1, weight of size [32, 2, 3, 3], expected input[8, 8, 64, 64] to have 2 channels, but got 8 channels instead"
     ]
    }
   ],
   "source": [
    "experiment_name = 'unet_test'\n",
    "time_string = time.strftime(\"%d%m_%H%M\", time.localtime())\n",
    "writer = SummaryWriter(comment=experiment_name, flush_secs=30, log_dir=f'results/runs/{time_string}_{experiment_name}/{experiment_name}')\n",
    "saver = SaveBestModel(f'results/pths/{time_string}_{experiment_name}')\n",
    "# writer = None\n",
    "# saver = None\n",
    "train_network(model, opt, criterion, 300, writer, saver)"
   ]
  },
  {
   "cell_type": "code",
   "execution_count": null,
   "id": "dfee3591",
   "metadata": {},
   "outputs": [],
   "source": [
    "pred = model(validation_dataset[:][0].to(device))\n",
    "plt.imshow(validation_dataset[21][1])"
   ]
  },
  {
   "cell_type": "code",
   "execution_count": null,
   "id": "891052f2",
   "metadata": {
    "scrolled": true
   },
   "outputs": [],
   "source": [
    "plt.imshow(pred[21].squeeze().argmax(axis=0).cpu())"
   ]
  },
  {
   "cell_type": "markdown",
   "id": "6910d4a7",
   "metadata": {},
   "source": [
    "# Only reconstr image is used"
   ]
  },
  {
   "cell_type": "code",
   "execution_count": null,
   "id": "d2c2301d",
   "metadata": {},
   "outputs": [],
   "source": [
    "criterion = nn.CrossEntropyLoss()\n",
    "train_dataset = MRI('train')\n",
    "validation_dataset = MRI('test')\n",
    "train_dataloader = DataLoader(train_dataset, batch_size=8, shuffle=True, num_workers=8) \n",
    "validation_dataloader = DataLoader(validation_dataset, batch_size=8, shuffle=False, num_workers=8)\n",
    "\n",
    "model = UNet(num_classes=8, in_channels=1, min_channels=32, num_down_blocks=4).to(device)\n",
    "opt = torch.optim.Adam(model.parameters(), lr=5e-5, weight_decay=1e-4)"
   ]
  },
  {
   "cell_type": "code",
   "execution_count": null,
   "id": "7678e5f2",
   "metadata": {},
   "outputs": [],
   "source": [
    "experiment_name = 'only reconstructed image'\n",
    "time_string = time.strftime(\"%d%m_%H%M\", time.localtime())\n",
    "writer = SummaryWriter(comment=experiment_name, flush_secs=30, log_dir=f'results/runs/{time_string}_{experiment_name}/{experiment_name}')\n",
    "saver = SaveBestModel(f'results/pths/{time_string}_{experiment_name}')\n",
    "# writer = None\n",
    "# saver = None\n",
    "train_network(model, opt, criterion, 100, writer, saver)"
   ]
  },
  {
   "cell_type": "code",
   "execution_count": null,
   "id": "eb4d3c09",
   "metadata": {},
   "outputs": [],
   "source": [
    "pred = model(validation_dataset[:][0].to(device))\n",
    "plt.imshow(validation_dataset[21][1])"
   ]
  },
  {
   "cell_type": "code",
   "execution_count": null,
   "id": "14fc87be",
   "metadata": {},
   "outputs": [],
   "source": [
    "plt.imshow(pred[21].squeeze().argmax(axis=0).cpu())"
   ]
  },
  {
   "cell_type": "markdown",
   "id": "ef581da4",
   "metadata": {},
   "source": [
    "# Reconstr image and zero slice is used"
   ]
  },
  {
   "cell_type": "code",
   "execution_count": null,
   "id": "5d75b4be",
   "metadata": {},
   "outputs": [],
   "source": [
    "criterion = nn.CrossEntropyLoss()\n",
    "train_dataset = MRI('train', mode = 'fist_plus_reconstr')\n",
    "validation_dataset = MRI('test', mode = 'fist_plus_reconstr')\n",
    "train_dataloader = DataLoader(train_dataset, batch_size=8, shuffle=True, num_workers=8) \n",
    "validation_dataloader = DataLoader(validation_dataset, batch_size=8, shuffle=False, num_workers=8)\n",
    "\n",
    "model = UNet(num_classes=8, in_channels=2, min_channels=32, num_down_blocks=4).to(device)\n",
    "opt = torch.optim.Adam(model.parameters(), lr=5e-5, weight_decay=1e-4)"
   ]
  },
  {
   "cell_type": "code",
   "execution_count": null,
   "id": "2e953ad1",
   "metadata": {},
   "outputs": [],
   "source": [
    "experiment_name = 'reconstructed and zero slice'\n",
    "time_string = time.strftime(\"%d%m_%H%M\", time.localtime())\n",
    "writer = SummaryWriter(comment=experiment_name, flush_secs=30, log_dir=f'results/runs/{time_string}_{experiment_name}/{experiment_name}')\n",
    "saver = SaveBestModel(f'results/pths/{time_string}_{experiment_name}')\n",
    "# writer = None\n",
    "# saver = None\n",
    "train_network(model, opt, criterion, 100, writer, saver)"
   ]
  },
  {
   "cell_type": "code",
   "execution_count": null,
   "id": "4525e204",
   "metadata": {},
   "outputs": [],
   "source": [
    "pred = model(validation_dataset[:][0].to(device))\n",
    "plt.imshow(validation_dataset[21][1])"
   ]
  },
  {
   "cell_type": "code",
   "execution_count": null,
   "id": "52ae76ee",
   "metadata": {},
   "outputs": [],
   "source": [
    "plt.imshow(pred[21].squeeze().argmax(axis=0).cpu())"
   ]
  }
 ],
 "metadata": {
  "kernelspec": {
   "display_name": "Python 3 (ipykernel)",
   "language": "python",
   "name": "python3"
  },
  "language_info": {
   "codemirror_mode": {
    "name": "ipython",
    "version": 3
   },
   "file_extension": ".py",
   "mimetype": "text/x-python",
   "name": "python",
   "nbconvert_exporter": "python",
   "pygments_lexer": "ipython3",
   "version": "3.9.10"
  }
 },
 "nbformat": 4,
 "nbformat_minor": 5
}
