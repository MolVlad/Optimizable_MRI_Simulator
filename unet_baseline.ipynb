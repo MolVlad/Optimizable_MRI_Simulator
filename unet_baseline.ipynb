{
 "cells": [
  {
   "cell_type": "code",
   "execution_count": 1,
   "id": "60ba91f1-8003-4e45-a7e7-273b4e4e33fc",
   "metadata": {},
   "outputs": [],
   "source": [
    "# !./get_data.sh"
   ]
  },
  {
   "cell_type": "code",
   "execution_count": 1,
   "id": "457a3765-f617-40ab-b793-a39d4ee3b09b",
   "metadata": {},
   "outputs": [],
   "source": [
    "import torch\n",
    "from torch import nn\n",
    "from torch.nn import functional as F\n",
    "from torch.utils.data import DataLoader\n",
    "from torch.utils.tensorboard import SummaryWriter\n",
    "import numpy as np\n",
    "import matplotlib.pyplot as plt\n",
    "import time\n",
    "import wandb\n",
    "from collections import defaultdict\n",
    "from itertools import islice\n",
    "from IPython import display\n",
    "# import albumentations as A\n",
    "from torchsummary import summary\n",
    "from utils.dataset import MRI\n",
    "from utils.functions import train_network, SaveBestModel\n",
    "from utils.loss import dice_loss\n",
    "from models.unet import UNet"
   ]
  },
  {
   "cell_type": "code",
   "execution_count": 2,
   "id": "b84bfb3b-5f98-421a-8b47-3fdfce9bb64f",
   "metadata": {},
   "outputs": [],
   "source": [
    "device = 'cuda:1'"
   ]
  },
  {
   "cell_type": "markdown",
   "id": "7055e624",
   "metadata": {},
   "source": [
    "# Image from 8 slices is used"
   ]
  },
  {
   "cell_type": "code",
   "execution_count": null,
   "id": "d9c4fb93-cda9-48e9-8855-ec78bf9b7217",
   "metadata": {},
   "outputs": [],
   "source": [
    "experiment_name = 'DEBUG'\n",
    "time_string = time.strftime(\"%d%m_%H%M\", time.localtime())\n",
    "# saver = SaveBestModel(f'results/pths/{time_string}_{experiment_name}')\n",
    "saver = None\n",
    "\n",
    "config = {\n",
    "    \"learning_rate\": 1e-3,\n",
    "    \"epochs\": 500,\n",
    "    \"batch_size\": 4,\n",
    "    \"saver\": saver,\n",
    "    \"num_workers\": 8,\n",
    "    \"criterion\": dice_loss,    # nn.CrossEntropyLoss or dice_loss\n",
    "    \"model\": {\n",
    "        \"num_classes\": 8,\n",
    "        \"min_channels\": 32,\n",
    "        \"max_channels\": 512,\n",
    "        \"num_down_blocks\": 4,\n",
    "        \"img_channels\": 8,\n",
    "        \"dropout\": 0.5,\n",
    "        \"upsampling_mode\": \"upsampling\",\n",
    "        \"norm_mode\": \"instance\"\n",
    "    }\n",
    "}\n",
    "\n",
    "wandb.init(project=\"bsim\", name=experiment_name, config=config, entity=\"bsim-skt\")\n",
    "\n",
    "train_dataset = MRI('train', mode = 'slices')\n",
    "validation_dataset = MRI('test', mode = 'slices')\n",
    "train_dataloader = DataLoader(train_dataset, batch_size=config['batch_size'], shuffle=True, num_workers=config['num_workers']) \n",
    "validation_dataloader = DataLoader(validation_dataset, batch_size=config['batch_size'], shuffle=False, num_workers=config['num_workers'])\n",
    "\n",
    "model = UNet(**config['model']).to(device)\n",
    "        \n",
    "# opt = torch.optim.Adam(model.parameters(), lr=wandb.config['learning_rate'], weight_decay=1e-4)\n",
    "opt = torch.optim.SGD(model.parameters(), lr=wandb.config['learning_rate'], weight_decay=1e-4)\n",
    "\n",
    "train_network(model, opt, config['criterion'], wandb.config['epochs'], \n",
    "              train_dataloader, validation_dataloader, device, saver, use_wandb=True)\n",
    "wandb.finish()"
   ]
  },
  {
   "cell_type": "markdown",
   "id": "6910d4a7",
   "metadata": {},
   "source": [
    "# Only reconstr image is used"
   ]
  },
  {
   "cell_type": "code",
   "execution_count": 4,
   "id": "9cf2ef85-146f-469a-9584-d51fe660273d",
   "metadata": {},
   "outputs": [
    {
     "data": {
      "text/html": [
       "Tracking run with wandb version 0.12.16"
      ],
      "text/plain": [
       "<IPython.core.display.HTML object>"
      ]
     },
     "metadata": {},
     "output_type": "display_data"
    },
    {
     "data": {
      "text/html": [
       "Run data is saved locally in <code>/home/jovyan/notebooks/bsim/wandb/run-20220522_113544-1xd8touo</code>"
      ],
      "text/plain": [
       "<IPython.core.display.HTML object>"
      ]
     },
     "metadata": {},
     "output_type": "display_data"
    },
    {
     "data": {
      "text/html": [
       "Syncing run <strong><a href=\"https://wandb.ai/bsim-skt/bsim/runs/1xd8touo\" target=\"_blank\">reconstr_only_dice</a></strong> to <a href=\"https://wandb.ai/bsim-skt/bsim\" target=\"_blank\">Weights & Biases</a> (<a href=\"https://wandb.me/run\" target=\"_blank\">docs</a>)<br/>"
      ],
      "text/plain": [
       "<IPython.core.display.HTML object>"
      ]
     },
     "metadata": {},
     "output_type": "display_data"
    },
    {
     "name": "stderr",
     "output_type": "stream",
     "text": [
      "Dice:0.311: 100%|█████████████████████████████| 500/500 [31:46<00:00,  3.81s/it]\n"
     ]
    },
    {
     "data": {
      "text/html": [
       "Waiting for W&B process to finish... <strong style=\"color:green\">(success).</strong>"
      ],
      "text/plain": [
       "<IPython.core.display.HTML object>"
      ]
     },
     "metadata": {},
     "output_type": "display_data"
    },
    {
     "data": {
      "application/vnd.jupyter.widget-view+json": {
       "model_id": "",
       "version_major": 2,
       "version_minor": 0
      },
      "text/plain": [
       "VBox(children=(Label(value='0.718 MB of 0.718 MB uploaded (0.000 MB deduped)\\r'), FloatProgress(value=1.0, max…"
      ]
     },
     "metadata": {},
     "output_type": "display_data"
    },
    {
     "data": {
      "text/html": [
       "<style>\n",
       "    table.wandb td:nth-child(1) { padding: 0 10px; text-align: left ; width: auto;} td:nth-child(2) {text-align: left ; width: 100%}\n",
       "    .wandb-row { display: flex; flex-direction: row; flex-wrap: wrap; justify-content: flex-start; width: 100% }\n",
       "    .wandb-col { display: flex; flex-direction: column; flex-basis: 100%; flex: 1; padding: 10px; }\n",
       "    </style>\n",
       "<div class=\"wandb-row\"><div class=\"wandb-col\"><h3>Run history:</h3><br/><table class=\"wandb\"><tr><td>Mean Dice</td><td>▁▃▃▃▃▃▃▃▃▃▃▃▄▄▄▄▅▆▇▇▇▇██████████████████</td></tr><tr><td>Mean IOU</td><td>▁▂▃▃▃▄▄▄▃▃▃▃▄▄▄▄▅▇▇▇▇▇██████████████████</td></tr><tr><td>Mean accuracy</td><td>▁▄▅▅▆▆▆▆▆▆▆▆▆▆▆▆▆▇▇▇▇▇▇▇▇▇██████████████</td></tr><tr><td>Mean class recall</td><td>▁▄▅▅▅▆▆▆▆▆▆▆▆▆▆▆▆▆▇▇▇███████████████████</td></tr><tr><td>Train loss</td><td>██▇▆▆▆▇▇▆▇▇▆▆▄▃▆▆▃▅▄▆▄▅▄▂▂▂▃▄▂▂▂▄▂▂▂▁▃▁▁</td></tr><tr><td>Val loss</td><td>█▇▇▇▆▆▆▅▅▅▅▅▄▄▄▄▄▄▄▃▃▃▃▃▃▃▂▂▂▂▂▂▂▂▁▁▁▁▁▁</td></tr></table><br/></div><div class=\"wandb-col\"><h3>Run summary:</h3><br/><table class=\"wandb\"><tr><td>Mean Dice</td><td>0.31054</td></tr><tr><td>Mean IOU</td><td>0.27336</td></tr><tr><td>Mean accuracy</td><td>0.6156</td></tr><tr><td>Mean class recall</td><td>0.39725</td></tr><tr><td>Train loss</td><td>0.86613</td></tr><tr><td>Val loss</td><td>0.87519</td></tr></table><br/></div></div>"
      ],
      "text/plain": [
       "<IPython.core.display.HTML object>"
      ]
     },
     "metadata": {},
     "output_type": "display_data"
    },
    {
     "data": {
      "text/html": [
       "Synced <strong style=\"color:#cdcd00\">reconstr_only_dice</strong>: <a href=\"https://wandb.ai/bsim-skt/bsim/runs/1xd8touo\" target=\"_blank\">https://wandb.ai/bsim-skt/bsim/runs/1xd8touo</a><br/>Synced 5 W&B file(s), 600 media file(s), 0 artifact file(s) and 0 other file(s)"
      ],
      "text/plain": [
       "<IPython.core.display.HTML object>"
      ]
     },
     "metadata": {},
     "output_type": "display_data"
    },
    {
     "data": {
      "text/html": [
       "Find logs at: <code>./wandb/run-20220522_113544-1xd8touo/logs</code>"
      ],
      "text/plain": [
       "<IPython.core.display.HTML object>"
      ]
     },
     "metadata": {},
     "output_type": "display_data"
    }
   ],
   "source": [
    "experiment_name = 'reconstr_only_dice'\n",
    "time_string = time.strftime(\"%d%m_%H%M\", time.localtime())\n",
    "saver = SaveBestModel(f'results/pths/{time_string}_{experiment_name}')\n",
    "\n",
    "config = {\n",
    "    \"learning_rate\": 1e-3,\n",
    "    \"epochs\": 500,\n",
    "    \"batch_size\": 4,\n",
    "    \"saver\": saver,\n",
    "    \"num_workers\": 8,\n",
    "    \"criterion\": dice_loss,    # nn.CrossEntropyLoss or dice_loss\n",
    "    \"model\": {\n",
    "        \"num_classes\": 8,\n",
    "        \"min_channels\": 32,\n",
    "        \"max_channels\": 512,\n",
    "        \"num_down_blocks\": 4,\n",
    "        \"img_channels\": 1,\n",
    "        \"dropout\": 0.5,\n",
    "        \"upsampling_mode\": \"upsampling\",\n",
    "        \"norm_mode\": \"instance\"\n",
    "    }\n",
    "}\n",
    "\n",
    "wandb.init(project=\"bsim\", name=experiment_name, config=config, entity=\"bsim-skt\")\n",
    "\n",
    "train_dataset = MRI('train', mode = 'reconstructed_only')\n",
    "validation_dataset = MRI('test', mode = 'reconstructed_only')\n",
    "train_dataloader = DataLoader(train_dataset, batch_size=config['batch_size'], shuffle=True, num_workers=config['num_workers']) \n",
    "validation_dataloader = DataLoader(validation_dataset, batch_size=config['batch_size'], shuffle=False, num_workers=config['num_workers'])\n",
    "\n",
    "model = UNet(**config['model']).to(device)\n",
    "        \n",
    "# opt = torch.optim.Adam(model.parameters(), lr=wandb.config['learning_rate'], weight_decay=1e-4)\n",
    "opt = torch.optim.SGD(model.parameters(), lr=wandb.config['learning_rate'], weight_decay=1e-4)\n",
    "\n",
    "train_network(model, opt, config['criterion'], wandb.config['epochs'], \n",
    "              train_dataloader, validation_dataloader, device, saver, use_wandb=True)\n",
    "wandb.finish()"
   ]
  },
  {
   "cell_type": "markdown",
   "id": "ef581da4",
   "metadata": {},
   "source": [
    "# Reconstr image and zero slice is used"
   ]
  },
  {
   "cell_type": "code",
   "execution_count": null,
   "id": "568218f6-1162-4537-a574-603f8125587f",
   "metadata": {},
   "outputs": [
    {
     "data": {
      "text/html": [
       "Tracking run with wandb version 0.12.16"
      ],
      "text/plain": [
       "<IPython.core.display.HTML object>"
      ]
     },
     "metadata": {},
     "output_type": "display_data"
    },
    {
     "data": {
      "text/html": [
       "Run data is saved locally in <code>/home/jovyan/notebooks/bsim/wandb/run-20220522_120738-2gmrxiu5</code>"
      ],
      "text/plain": [
       "<IPython.core.display.HTML object>"
      ]
     },
     "metadata": {},
     "output_type": "display_data"
    },
    {
     "data": {
      "text/html": [
       "Syncing run <strong><a href=\"https://wandb.ai/bsim-skt/bsim/runs/2gmrxiu5\" target=\"_blank\">reconstr_and_zero_dice</a></strong> to <a href=\"https://wandb.ai/bsim-skt/bsim\" target=\"_blank\">Weights & Biases</a> (<a href=\"https://wandb.me/run\" target=\"_blank\">docs</a>)<br/>"
      ],
      "text/plain": [
       "<IPython.core.display.HTML object>"
      ]
     },
     "metadata": {},
     "output_type": "display_data"
    },
    {
     "name": "stderr",
     "output_type": "stream",
     "text": [
      "Dice:0.234:  37%|██████████▋                  | 184/500 [12:12<20:48,  3.95s/it]"
     ]
    }
   ],
   "source": [
    "experiment_name = 'reconstr_and_zero_dice'\n",
    "time_string = time.strftime(\"%d%m_%H%M\", time.localtime())\n",
    "saver = SaveBestModel(f'results/pths/{time_string}_{experiment_name}')\n",
    "\n",
    "config = {\n",
    "    \"learning_rate\": 1e-3,\n",
    "    \"epochs\": 500,\n",
    "    \"batch_size\": 4,\n",
    "    \"saver\": saver,\n",
    "    \"num_workers\": 8,\n",
    "    \"criterion\": dice_loss,    # nn.CrossEntropyLoss or dice_loss\n",
    "    \"model\": {\n",
    "        \"num_classes\": 8,\n",
    "        \"min_channels\": 32,\n",
    "        \"max_channels\": 512,\n",
    "        \"num_down_blocks\": 4,\n",
    "        \"img_channels\": 2,\n",
    "        \"dropout\": 0.5,\n",
    "        \"upsampling_mode\": \"upsampling\",\n",
    "        \"norm_mode\": \"instance\"\n",
    "    }\n",
    "}\n",
    "\n",
    "wandb.init(project=\"bsim\", name=experiment_name, config=config, entity=\"bsim-skt\")\n",
    "\n",
    "train_dataset = MRI('train', mode = 'fist_plus_reconstr')\n",
    "validation_dataset = MRI('test', mode = 'fist_plus_reconstr')\n",
    "train_dataloader = DataLoader(train_dataset, batch_size=config['batch_size'], shuffle=True, num_workers=config['num_workers']) \n",
    "validation_dataloader = DataLoader(validation_dataset, batch_size=config['batch_size'], shuffle=False, num_workers=config['num_workers'])\n",
    "\n",
    "model = UNet(**config['model']).to(device)\n",
    "        \n",
    "# opt = torch.optim.Adam(model.parameters(), lr=wandb.config['learning_rate'], weight_decay=1e-4)\n",
    "opt = torch.optim.SGD(model.parameters(), lr=wandb.config['learning_rate'], weight_decay=1e-4)\n",
    "\n",
    "\n",
    "train_network(model, opt, config['criterion'], wandb.config['epochs'], \n",
    "              train_dataloader, validation_dataloader, device, saver, use_wandb=True)\n",
    "wandb.finish()"
   ]
  },
  {
   "cell_type": "code",
   "execution_count": null,
   "id": "0f57c864-f851-47fa-b768-00d0ced9967c",
   "metadata": {},
   "outputs": [],
   "source": []
  }
 ],
 "metadata": {
  "kernelspec": {
   "display_name": "Python 3 (ipykernel)",
   "language": "python",
   "name": "python3"
  },
  "language_info": {
   "codemirror_mode": {
    "name": "ipython",
    "version": 3
   },
   "file_extension": ".py",
   "mimetype": "text/x-python",
   "name": "python",
   "nbconvert_exporter": "python",
   "pygments_lexer": "ipython3",
   "version": "3.9.10"
  }
 },
 "nbformat": 4,
 "nbformat_minor": 5
}
