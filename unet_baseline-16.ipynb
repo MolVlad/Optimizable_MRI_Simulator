{
 "cells": [
  {
   "cell_type": "code",
   "execution_count": 1,
   "id": "60ba91f1-8003-4e45-a7e7-273b4e4e33fc",
   "metadata": {},
   "outputs": [],
   "source": [
    "# !./get_data.sh"
   ]
  },
  {
   "cell_type": "code",
   "execution_count": 1,
   "id": "457a3765-f617-40ab-b793-a39d4ee3b09b",
   "metadata": {},
   "outputs": [],
   "source": [
    "import torch\n",
    "from torch import nn\n",
    "from torch.nn import functional as F\n",
    "from torch.utils.data import DataLoader\n",
    "from torch.utils.tensorboard import SummaryWriter\n",
    "import numpy as np\n",
    "import matplotlib.pyplot as plt\n",
    "import time\n",
    "import wandb\n",
    "from collections import defaultdict\n",
    "from itertools import islice\n",
    "from IPython import display\n",
    "# import albumentations as A\n",
    "from torchsummary import summary\n",
    "from utils.dataset import MRI\n",
    "from utils.functions import train_network, SaveBestModel\n",
    "from utils.loss import dice_loss\n",
    "from models.unet import UNet"
   ]
  },
  {
   "cell_type": "code",
   "execution_count": 2,
   "id": "b84bfb3b-5f98-421a-8b47-3fdfce9bb64f",
   "metadata": {},
   "outputs": [],
   "source": [
    "device = 'cuda:0'"
   ]
  },
  {
   "cell_type": "markdown",
   "id": "04d31883-f07e-4cc7-9e11-679a5a51519e",
   "metadata": {},
   "source": [
    "# 16"
   ]
  },
  {
   "cell_type": "markdown",
   "id": "3ebc0ced-2e0f-439b-a559-cd128881ea46",
   "metadata": {},
   "source": [
    "# Image from 1 slice is used"
   ]
  },
  {
   "cell_type": "code",
   "execution_count": 3,
   "id": "be48574d-ed9e-4977-908a-3ea5376dd6bd",
   "metadata": {},
   "outputs": [],
   "source": [
    "# !bash get_data_16.sh"
   ]
  },
  {
   "cell_type": "code",
   "execution_count": 4,
   "id": "0ce1cf55-49ac-4a5e-aa08-554b43a32ab2",
   "metadata": {},
   "outputs": [
    {
     "name": "stderr",
     "output_type": "stream",
     "text": [
      "\u001b[34m\u001b[1mwandb\u001b[0m: Currently logged in as: \u001b[33mdartemasov\u001b[0m (\u001b[33mbsim-skt\u001b[0m). Use \u001b[1m`wandb login --relogin`\u001b[0m to force relogin\n"
     ]
    },
    {
     "data": {
      "text/html": [
       "Tracking run with wandb version 0.12.16"
      ],
      "text/plain": [
       "<IPython.core.display.HTML object>"
      ]
     },
     "metadata": {},
     "output_type": "display_data"
    },
    {
     "data": {
      "text/html": [
       "Run data is saved locally in <code>/home/jovyan/notebooks/bsim/wandb/run-20220523_190112-3qzjndv6</code>"
      ],
      "text/plain": [
       "<IPython.core.display.HTML object>"
      ]
     },
     "metadata": {},
     "output_type": "display_data"
    },
    {
     "data": {
      "text/html": [
       "Syncing run <strong><a href=\"https://wandb.ai/bsim-skt/bsim/runs/3qzjndv6\" target=\"_blank\">1_slice_dice_16px</a></strong> to <a href=\"https://wandb.ai/bsim-skt/bsim\" target=\"_blank\">Weights & Biases</a> (<a href=\"https://wandb.me/run\" target=\"_blank\">docs</a>)<br/>"
      ],
      "text/plain": [
       "<IPython.core.display.HTML object>"
      ]
     },
     "metadata": {},
     "output_type": "display_data"
    },
    {
     "name": "stderr",
     "output_type": "stream",
     "text": [
      "Dice:0.823: 100%|█████████████████████████████████████████████████████████████████████| 500/500 [15:29<00:00,  1.86s/it]\n"
     ]
    },
    {
     "data": {
      "text/html": [
       "Waiting for W&B process to finish... <strong style=\"color:green\">(success).</strong>"
      ],
      "text/plain": [
       "<IPython.core.display.HTML object>"
      ]
     },
     "metadata": {},
     "output_type": "display_data"
    },
    {
     "data": {
      "application/vnd.jupyter.widget-view+json": {
       "model_id": "",
       "version_major": 2,
       "version_minor": 0
      },
      "text/plain": [
       "VBox(children=(Label(value='0.180 MB of 0.180 MB uploaded (0.000 MB deduped)\\r'), FloatProgress(value=1.0, max…"
      ]
     },
     "metadata": {},
     "output_type": "display_data"
    },
    {
     "data": {
      "text/html": [
       "<style>\n",
       "    table.wandb td:nth-child(1) { padding: 0 10px; text-align: left ; width: auto;} td:nth-child(2) {text-align: left ; width: 100%}\n",
       "    .wandb-row { display: flex; flex-direction: row; flex-wrap: wrap; justify-content: flex-start; width: 100% }\n",
       "    .wandb-col { display: flex; flex-direction: column; flex-basis: 100%; flex: 1; padding: 10px; }\n",
       "    </style>\n",
       "<div class=\"wandb-row\"><div class=\"wandb-col\"><h3>Run history:</h3><br/><table class=\"wandb\"><tr><td>Mean Dice</td><td>▁▃▄▄▄▅▅▅▅▅▅▅▅▆▆▇▇▇▇▆▇▇▇▇▇▇▇███▇▇▇███▇▇██</td></tr><tr><td>Mean IOU</td><td>▁▃▄▄▄▅▅▆▆▅▆▆▅▆▇▇▇▇▇▆▇▇█▇▇▇▇███▇▇▇███▇▇██</td></tr><tr><td>Mean accuracy</td><td>▁▃▅▅▆▆▇▇▇▇▇▇▇▇▇████▇█▇██▇██████▇████▇███</td></tr><tr><td>Mean class recall</td><td>▁▃▄▄▄▅▅▅▅▅▅▅▅▆▆▇▇▇▇▆▇▇▇▇▆▇▇███▇▇▇██▇▇▇▇█</td></tr><tr><td>Train loss</td><td>█▅▄▃▃▃▃▃▂▃▃▃▄▂▂▄▂▃▁▂▂▃▂▂▃▂▃▅▂▃▃▂▃▂▂▃▂▂▂▃</td></tr><tr><td>Val loss</td><td>█▆▄▄▃▃▂▂▂▂▂▂▂▂▁▁▁▁▁▁▁▁▁▁▂▁▁▁▁▁▁▁▁▁▁▁▁▁▁▁</td></tr></table><br/></div><div class=\"wandb-col\"><h3>Run summary:</h3><br/><table class=\"wandb\"><tr><td>Mean Dice</td><td>0.82309</td></tr><tr><td>Mean IOU</td><td>0.75521</td></tr><tr><td>Mean accuracy</td><td>0.9248</td></tr><tr><td>Mean class recall</td><td>0.8221</td></tr><tr><td>Train loss</td><td>0.70985</td></tr><tr><td>Val loss</td><td>0.68488</td></tr></table><br/></div></div>"
      ],
      "text/plain": [
       "<IPython.core.display.HTML object>"
      ]
     },
     "metadata": {},
     "output_type": "display_data"
    },
    {
     "data": {
      "text/html": [
       "Synced <strong style=\"color:#cdcd00\">1_slice_dice_16px</strong>: <a href=\"https://wandb.ai/bsim-skt/bsim/runs/3qzjndv6\" target=\"_blank\">https://wandb.ai/bsim-skt/bsim/runs/3qzjndv6</a><br/>Synced 5 W&B file(s), 600 media file(s), 0 artifact file(s) and 0 other file(s)"
      ],
      "text/plain": [
       "<IPython.core.display.HTML object>"
      ]
     },
     "metadata": {},
     "output_type": "display_data"
    },
    {
     "data": {
      "text/html": [
       "Find logs at: <code>./wandb/run-20220523_190112-3qzjndv6/logs</code>"
      ],
      "text/plain": [
       "<IPython.core.display.HTML object>"
      ]
     },
     "metadata": {},
     "output_type": "display_data"
    }
   ],
   "source": [
    "experiment_name = '1_slice_dice_16px'\n",
    "time_string = time.strftime(\"%d%m_%H%M\", time.localtime())\n",
    "saver = SaveBestModel(f'results/pths/{time_string}_{experiment_name}')\n",
    "# saver = None\n",
    "\n",
    "config = {\n",
    "    \"learning_rate\": 5e-5,\n",
    "    \"epochs\": 500,\n",
    "    \"batch_size\": 4,\n",
    "    \"saver\": saver,\n",
    "    \"num_workers\": 8,\n",
    "    \"criterion\": dice_loss,    # nn.CrossEntropyLoss or dice_loss\n",
    "    \"model\": {\n",
    "        \"num_classes\": 5,\n",
    "        \"min_channels\": 32,\n",
    "        \"max_channels\": 512,\n",
    "        \"num_down_blocks\": 3,\n",
    "        \"img_channels\": 1,\n",
    "        \"dropout\": 0.5,\n",
    "        \"upsampling_mode\": \"upsampling\",\n",
    "        \"norm_mode\": \"instance\"\n",
    "    }\n",
    "}\n",
    "\n",
    "wandb.init(project=\"bsim\", name=experiment_name, config=config, entity=\"bsim-skt\")\n",
    "\n",
    "train_dataset = MRI('train', data_path='data_16', img_size=16, mode = '1_slice')\n",
    "validation_dataset = MRI('test', data_path='data_16', img_size=16, mode = '1_slice')\n",
    "train_dataloader = DataLoader(train_dataset, batch_size=config['batch_size'], shuffle=True, num_workers=config['num_workers']) \n",
    "validation_dataloader = DataLoader(validation_dataset, batch_size=config['batch_size'], shuffle=False, num_workers=config['num_workers'])\n",
    "\n",
    "model = UNet(**config['model']).to(device)\n",
    "        \n",
    "opt = torch.optim.Adam(model.parameters(), lr=wandb.config['learning_rate'], weight_decay=1e-4)\n",
    "# opt = torch.optim.SGD(model.parameters(), lr=wandb.config['learning_rate'], weight_decay=1e-4)\n",
    "\n",
    "train_network(model, opt, config['criterion'], wandb.config['epochs'], \n",
    "              train_dataloader, validation_dataloader, device, saver, use_wandb=True)\n",
    "wandb.finish()"
   ]
  }
 ],
 "metadata": {
  "kernelspec": {
   "display_name": "Python 3 (ipykernel)",
   "language": "python",
   "name": "python3"
  },
  "language_info": {
   "codemirror_mode": {
    "name": "ipython",
    "version": 3
   },
   "file_extension": ".py",
   "mimetype": "text/x-python",
   "name": "python",
   "nbconvert_exporter": "python",
   "pygments_lexer": "ipython3",
   "version": "3.9.10"
  }
 },
 "nbformat": 4,
 "nbformat_minor": 5
}
